{
  "nbformat": 4,
  "nbformat_minor": 0,
  "metadata": {
    "colab": {
      "provenance": []
    },
    "kernelspec": {
      "name": "python3",
      "display_name": "Python 3"
    },
    "language_info": {
      "name": "python"
    }
  },
  "cells": [
    {
      "cell_type": "markdown",
      "source": [
        "천 시스템의 활용 예시를 5개 이상추 말할 수 있는가?\n",
        "추천 시스템은 다양한 산업과 분야에서 널리 활용되고 있다. 아래는 몇 가지 활용 예시이다.\n",
        "온라인 쇼핑: Amazon, eBay 등: 사용자가 이전에 본 또는 구매한 제품과 관련된 다른 제품을 추천\n",
        "스트리밍 서비스: Netflix, Spotify, YouTube 등: 사용자가 이전에 시청하거나 들은 콘텐츠와 유사한 새로운 콘텐츠를 추천\n",
        "소셜 미디어: Facebook, Twitter, Instagram 등: 사용자가 관심을 가질 만한 새로운 친구, 팔로워 또는 관심 있는 게시물을 추천\n",
        "뉴스 및 기사: Google News, NYT 등: 사용자의 읽기 선호나 검색 히스토리를 기반으로 개인화된 뉴스나 기사를 추천\n",
        "여행 및 음식: Airbnb, TripAdvisor, Yelp 등: 사용자의 이전 검색과 유사한 숙소, 명소, 레스토랑을 추천\n",
        "책과 교육: Goodreads, Coursera, Khan Academy 등: 사용자가 읽었거나 수강했던 책이나 강의와 유사한 새로운 책이나 강의를 추천\n",
        "취업 사이트: LinkedIn, Indeed, Glassdoor 등: 사용자의 스킬셋, 이력, 관심 분야에 맞는 채용 정보를 추천\n",
        "건강 관련 앱: MyFitnessPal, Headspace 등: 사용자의 건강 데이터와 선호를 기반으로 운동 루틴이나 명상 가이드를 추천\n",
        "게임: Steam, PlayStation Store 등: 사용자가 이전에 플레이한 게임과 유사한 새로운 게임을 추천\n",
        "금융 서비스: Robinhood, Betterment 등: 사용자의 투자 스타일과 목표에 맞는 주식이나 투자 상품을 추천\n"
      ],
      "metadata": {
        "id": "BA_mFI-7aMHf"
      }
    },
    {
      "cell_type": "code",
      "source": [],
      "metadata": {
        "id": "d-IkjXPsaeom"
      },
      "execution_count": null,
      "outputs": []
    }
  ]
}