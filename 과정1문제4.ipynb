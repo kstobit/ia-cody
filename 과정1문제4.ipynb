{
  "nbformat": 4,
  "nbformat_minor": 0,
  "metadata": {
    "colab": {
      "provenance": []
    },
    "kernelspec": {
      "name": "python3",
      "display_name": "Python 3"
    },
    "language_info": {
      "name": "python"
    }
  },
  "cells": [
    {
      "cell_type": "markdown",
      "source": [
        "\n",
        "# 알고리즘\t설명\n",
        "##통계 기반\t인기도, 평균 점수 등 단순 통계 정보를 활용하여 추천\n",
        "##연관 규칙\tApriori 등으로 아이템 간 빈도/연관성 분석\n",
        "##콘텐츠 기반\t아이템의 속성(텍스트, 이미지 등) 유사도를 측정하여 추천\n",
        "##협업 필터링\t사용자-아이템 상호작용 데이터를 바탕으로 유사 사용자/아이템 기반 추천\n",
        "##행렬 분해\tSVD, NMF 등을 통해 잠재 요인을 도출하고 예측 평점을 계산\n",
        "##하이브리드 방법\t여러 알고리즘의 장점을 결합해 추천의 정확도와 다양성을 향상\n",
        "##딥러닝 기반\t신경망(CNN, RNN, Autoencoder 등)을 활용하여 복잡한 패턴과 관계를 학습하여 추천\n",
        "\n",
        "\n"
      ],
      "metadata": {
        "id": "lzRaHyjQT_oW"
      }
    },
    {
      "cell_type": "code",
      "source": [
        "# 그래프 알고리즘 기반 추천시스템 예시 (GPT4로 작성)\n",
        "\n",
        "import networkx as nx\n",
        "\n",
        "# 사용자와 아이템으로 구성된 이분 그래프 생성\n",
        "G = nx.Graph()\n",
        "users = ['User1', 'User2', 'User3']\n",
        "items = ['ItemA', 'ItemB', 'ItemC', 'ItemD']\n",
        "G.add_nodes_from(users, bipartite=0)\n",
        "G.add_nodes_from(items, bipartite=1)\n",
        "G.add_edges_from([('User1', 'ItemA'), ('User1', 'ItemB'),\n",
        "                  ('User2', 'ItemB'), ('User2', 'ItemC'),\n",
        "                  ('User3', 'ItemA'), ('User3', 'ItemD')])\n",
        "\n",
        "# 추천 알고리즘: 사용자와 연결된 아이템의 이웃(유사 사용자)의 아이템을 추천\n",
        "def graph_recommend(user, G):\n",
        "    user_items = set(G.neighbors(user))\n",
        "    rec_scores = {}\n",
        "    for item in user_items:\n",
        "        for sim_user in G.neighbors(item):\n",
        "            if sim_user in users and sim_user != user:\n",
        "                for candidate in G.neighbors(sim_user):\n",
        "                    if candidate not in user_items and candidate in items:\n",
        "                        rec_scores[candidate] = rec_scores.get(candidate, 0) + 1\n",
        "    return sorted(rec_scores.items(), key=lambda x: x[1], reverse=True)\n",
        "\n",
        "print(\"User1 추천:\", graph_recommend('User1', G))\n"
      ],
      "metadata": {
        "colab": {
          "base_uri": "https://localhost:8080/"
        },
        "id": "kPUPfQmvUAb1",
        "outputId": "3dcdf49d-45e4-4abe-f62b-cfe637d4f4f8"
      },
      "execution_count": 3,
      "outputs": [
        {
          "output_type": "stream",
          "name": "stdout",
          "text": [
            "User1 추천: [('ItemC', 1), ('ItemD', 1)]\n"
          ]
        }
      ]
    },
    {
      "cell_type": "code",
      "source": [],
      "metadata": {
        "id": "jBn2xD_HUOjx"
      },
      "execution_count": null,
      "outputs": []
    }
  ]
}